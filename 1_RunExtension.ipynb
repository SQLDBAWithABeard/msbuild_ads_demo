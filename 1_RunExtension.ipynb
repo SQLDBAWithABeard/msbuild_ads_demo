{
    "metadata": {
        "kernelspec": {
            "name": "python3",
            "display_name": "Python 3"
        },
        "language_info": {
            "name": "python",
            "version": "3.6.6",
            "mimetype": "text/x-python",
            "codemirror_mode": {
                "name": "ipython",
                "version": 3
            },
            "pygments_lexer": "ipython3",
            "nbconvert_exporter": "python",
            "file_extension": ".py"
        }
    },
    "nbformat_minor": 2,
    "nbformat": 4,
    "cells": [
        {
            "cell_type": "markdown",
            "source": "# Running, Debugging, Testing & Packaging\n\nLet's look at the key parts of our app:\n\n**package.json**\nThis defines all contributions: commands, context menus, UI, everything! \n\n```json\n    \"activationEvents\": [\n        // Use \"*\" to start on application start. If contributing commands, only start on command to speed up user experience\n        \"onCommand:extension.showCurrentConnection\"\n    ],\n    \"main\": \"./out/extension\",\n    \"contributes\": {\n        \"commands\": [\n            {\n                \"command\": \"extension.showCurrentConnection\",\n                \"title\": \"Show Current Connection\"\n            }\n        ]\n    },\n\n```",
            "metadata": {}
        },
        {
            "cell_type": "markdown",
            "source": "**extension.ts** is our extension control center. Your extension always starts here by registering your extension points, and using built-in APIs to query connections, show messages, and much more \n\n```ts\n    context.subscriptions.push(vscode.commands.registerCommand('extension.showCurrentConnection', () => {\n        sqlops.connection.getCurrentConnection().then(connection => {\n            let connectionId = connection ? connection.connectionId : 'No connection found!';\n            vscode.window.showInformationMessage(connectionId);\n        }, error => {\n             console.info(error);\n        });\n    }));\n\n```",
            "metadata": {}
        },
        {
            "cell_type": "markdown",
            "source": "### VSCode APIs\n\nAll* VSCode APIs are defined in Azure Data Studio meaning VSCode extensions just work. These include common workspace, window and language services features\n> *Debugger APIs are defined but the debugger is not implemented",
            "metadata": {}
        },
        {
            "cell_type": "markdown",
            "source": "### sqlops / azdata APIs**\n\nAzure Data Studio APIs are in the sqlops namespace. These cover Connection, Query, advanced UI (dialogs, wizards, and other standardized UI controls]), and the Data Management Protocol (DMP).\n> These are moving to a new **azdata** namespace. We will cover the types of changes being made to simplify development as part of this demo",
            "metadata": {}
        },
        {
            "cell_type": "markdown",
            "source": "# Run your code\n\n* In VSCode, you should have the \"Azure Data Studio Debug\" extension installed\n\n![Debugger extension](./AzDataDebug.png)\n\n* Hit F5 or go to the debugger section and click the Run button\n* Azure Data Studio will launch\n* Hit `Ctrl+Shift+P` and choose **Show Current Connection**\n* It will show **No Connection Found**. How do we find out what's wrong? Let's go and debug it!",
            "metadata": {}
        },
        {
            "cell_type": "markdown",
            "source": "# Debug your code\n\n* As for any app, click inside the code and set a breakdpoint on the line\n\n```\n    let connectionId = connection ? connection.connectionId : 'No connection found!';\n```\n\n* Run the command again\n* We will see that the connection is not getting returned. Why might that be? It's because nobody connected to one!\n* Open a connection and try again. This time you will see all the available information about this connection.",
            "metadata": {}
        },
        {
            "cell_type": "markdown",
            "source": "# Testing your code\n\nIf you like to write tests, you have a template built-into your extension. You can even debug using the **Extension Tests** option in the debugger dropdown. This uses standard Javascript test frameworks (Mocha) and is able to integrate with all the usual actions.",
            "metadata": {}
        },
        {
            "cell_type": "markdown",
            "source": "# Packaging your extension\n\nPackaging is as easy as running `vsce package` from the root of the extension.\n* The first time you run this, you'll see errors if you didn't edit your Readme and other key files\n* Update Readme.md so it's not a default value\n* Similarly delete Changelog contents or update as needed\n* Delete the **vsc-extension-quickstart.md` file\n\nNow if you re-run, you'll get a .vsix file\n\n## Installing your extension for testing\n* In Azure Data Studio, hit `Ctrl+Shift+P` and choose **Extensions: Install from VSIX...**\n* Pick your file and click OK\n* It'll install and be available - no reload necessary!",
            "metadata": {}
        }
    ]
}