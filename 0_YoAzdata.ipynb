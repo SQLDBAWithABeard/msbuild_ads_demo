{
    "metadata": {
        "kernelspec": {
            "name": "python3",
            "display_name": "Python 3"
        },
        "language_info": {
            "name": "python",
            "version": "3.6.6",
            "mimetype": "text/x-python",
            "codemirror_mode": {
                "name": "ipython",
                "version": 3
            },
            "pygments_lexer": "ipython3",
            "nbconvert_exporter": "python",
            "file_extension": ".py"
        }
    },
    "nbformat_minor": 2,
    "nbformat": 4,
    "cells": [
        {
            "cell_type": "markdown",
            "source": "# Creating an extension: prerequisites\n\n* Click the **Not Trusted** button above to trust the notebook and enable command links.\n\n* Follow along by [cloning the msbuild_ads_demo repo from github.com](https://github.com/kevcunnane/msbuild_ads_demo)\n\n* Next <a href=\"command:workbench.action.installCommandLine\">install azuredatastudio in your path</a>. \n\n> Note: this is only needed for macOS / Linux.\n",
            "metadata": {}
        },
        {
            "cell_type": "markdown",
            "source": "Install node.js, Visual Studio Code, and the Azure Data Studio extension debugger",
            "metadata": {}
        },
        {
            "cell_type": "code",
            "source": "# Mac (install brew to install all the things)\n!brew install node [link](http://google.com)\n!brew cask install visual-studio-code\n\n# Linux\n# snap install node --classic\n# snap install code --classic\n\n# Windows (first install chocolatey, it's great!)\n# choco install nodejs.install\n# choco install vscode",
            "metadata": {},
            "outputs": [],
            "execution_count": 1
        },
        {
            "cell_type": "code",
            "source": "!code --install-extension ms-mssql.sqlops-debug",
            "metadata": {},
            "outputs": [
                {
                    "output_type": "stream",
                    "name": "stdout",
                    "text": "Extension 'ms-mssql.sqlops-debug' is already installed.\r\n"
                }
            ],
            "execution_count": 10
        },
        {
            "cell_type": "markdown",
            "source": "Install the following dependencies globally:\n* **yeoman**, a project generator (yo)\n* **generator-azuredatastudio**, which adds Azure Data Studio project templates to yeoman\n* **vsce**, the extension package tool that creates an installable _.vsix_ file for your extension ",
            "metadata": {}
        },
        {
            "cell_type": "code",
            "source": "import getpass\nimport os\nfrom sys import platform\n\nif platform == \"win32\":\n    # Note: on Windows you do not need to sudo\n    !npm install -g yo generator-azuredatastudio vsce\nelse:\n    password = getpass.getpass()\n    !echo {password} | sudo -S npm install -g yo generator-azuredatastudio vsce\n",
            "metadata": {},
            "outputs": [],
            "execution_count": 3
        },
        {
            "cell_type": "markdown",
            "source": "# Run the extension generator\n\n<a href=\"command:workbench.action.terminal.focus\">Open the terminal</a> and then <a href=\"command:workbench.action.terminal.sendSequence?%7B%22text%22%3A%22yo%20azuredatastudio%22%7D\">run 'yo azuredatastudio'</a> to create a new extension.\n> Note: It's interactive so doesn't work in a notebook\n\nWhen you've followed the steps, use <a href=\"command:workbench.action.terminal.sendSequence?%7B%22text%22%3A%22code%20.%22%7D\">run 'code .'</a> to open Visual Studio Code.\n\n\n",
            "metadata": {}
        },
        {
            "cell_type": "markdown",
            "source": "## What can I do if I'm not comfortable coding?\nThe following choices require no coding other than SQL querying\n* Dashboard Insight\n * SQL queries + JSON\n* Color Theme\n  * Change colors in Azure Data Studio + save JSON output\n* Keymap\n  * Change key bindings and copy the JSON\n* Code Snippets\n  * JSON snippets file\n",
            "metadata": {}
        },
        {
            "cell_type": "markdown",
            "source": "## Some coding required: creating an extension with 1 connected command\n\n1. Run the `yo azuredatastudio` in the terminal\n2. Choose **New Extension (Typescript)**\n3. Enter a name like `HelloWorld` for the extension and hit Enter to use defaults for all other options.\n4. Change directory to your new extension (`cd ./HelloWorld`) and run `code .` to open Visual Studio Code in that directory",
            "metadata": {}
        },
        {
            "cell_type": "code",
            "source": "!yo azuredatastudio",
            "metadata": {},
            "outputs": [
                {
                    "output_type": "stream",
                    "name": "stdout",
                    "text": "\r\n     _-----_     ������������������������������������������������������������������������������������\r\n    |       |    \u001b[0m���\u001b[0m   \u001b[0mWelcome to the Azure\u001b[0m   \u001b[0m���\u001b[0m\r\n    |\u001b[31m--(o)--\u001b[39m|    \u001b[0m���\u001b[0m   \u001b[0mData Studio Extension\u001b[0m  \u001b[0m���\u001b[0m\r\n   `---------��   \u001b[0m���\u001b[0m        \u001b[0mgenerator!\u001b[0m        \u001b[0m���\u001b[0m\r\n    \u001b[33m(\u001b[39m _\u001b[33m��U`\u001b[39m_ \u001b[33m)\u001b[39m    \u001b[0m������������������������������������������������������������������������������������\r\n    /___A___\\   /\r\n     \u001b[33m|  ~  |\u001b[39m     \r\n   __\u001b[33m'.___.'\u001b[39m__   \r\n ��   \u001b[31m`  |\u001b[39m�� \u001b[31m�� Y\u001b[39m ` \r\n\r\n"
                },
                {
                    "output_type": "stream",
                    "name": "stdout",
                    "text": "\u001b[?25l\u001b[32m?\u001b[39m \u001b[1mWhat type of extension do you want to create?\u001b[22m\u001b[0m \u001b[0m\u001b[2m(Use arrow keys)\u001b[22m\r\n\u001b[36m��� New Extension (TypeScript)\u001b[39m \r\n  New Extension (JavaScript) \r\n  New Dashboard Insight \r\n  New Color Theme \r\n  New Code Snippets \r\n  New Keymap \r\n  New Extension Pack \r\n\u001b[2m(Move up and down to reveal more choices)\u001b[22m\u001b[41D\u001b[41C"
                }
            ],
            "execution_count": 0
        },
        {
            "cell_type": "code",
            "source": "cd './1-helloconnectedworld'",
            "metadata": {},
            "outputs": [
                {
                    "output_type": "error",
                    "ename": "SyntaxError",
                    "evalue": "invalid syntax (<ipython-input-7-3bb6140e279c>, line 1)",
                    "traceback": [
                        "\u001b[0;36m  File \u001b[0;32m\"<ipython-input-7-3bb6140e279c>\"\u001b[0;36m, line \u001b[0;32m1\u001b[0m\n\u001b[0;31m    cd './1-helloconnectedworld'\u001b[0m\n\u001b[0m                               ^\u001b[0m\n\u001b[0;31mSyntaxError\u001b[0m\u001b[0;31m:\u001b[0m invalid syntax\n"
                    ]
                }
            ],
            "execution_count": 7
        },
        {
            "cell_type": "code",
            "source": "!code .",
            "metadata": {},
            "outputs": [],
            "execution_count": 11
        }
    ]
}