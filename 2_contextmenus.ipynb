{
    "metadata": {
        "kernelspec": {
            "name": "python3",
            "display_name": "Python 3"
        },
        "language_info": {
            "name": "python",
            "version": "3.6.6",
            "mimetype": "text/x-python",
            "codemirror_mode": {
                "name": "ipython",
                "version": 3
            },
            "pygments_lexer": "ipython3",
            "nbconvert_exporter": "python",
            "file_extension": ".py"
        }
    },
    "nbformat_minor": 2,
    "nbformat": 4,
    "cells": [
        {
            "cell_type": "markdown",
            "source": "# Get connection information for context menu commands\n\nMany extensions want to launch from the context menu. This is what we do for our own features - _New Query_, _New Notebook_ and more! When you run from here, you will be able to tell exactly what connection your ran from.\n\nLet's add our connection command to the context menu for a Server and a Database connection, and see what's different between the two.\n\n",
            "metadata": {}
        },
        {
            "cell_type": "code",
            "source": "cd './2-contextmenus'",
            "metadata": {},
            "outputs": [],
            "execution_count": 13
        },
        {
            "cell_type": "code",
            "source": "!code .",
            "metadata": {},
            "outputs": [],
            "execution_count": 0
        },
        {
            "cell_type": "markdown",
            "source": "## Menus\n\nYou already have a command. Adding it to a menu is simple - just add a menu contribution!\n\n### Just servers\n```json\n\"menus\": {\n    \"objectExplorer/item/context\": [\n        {\n            \"command\": \"extension.showCurrentConnection\",\n            \"when\": \"nodeType == Server\",\n            \"group\": \"myextension@1\"\n        }\n    ]\n}\n```\n\n### Servers and databases\n```json\n\"menus\": {\n    \"objectExplorer/item/context\": [\n        {\n            \"command\": \"extension.showCurrentConnection\",\n            \"when\": \"nodeType == =~ /^(Server|Database)$/\",\n            \"group\": \"myextension@1\"\n        }\n    ]\n}\n```\n\n### Disabling command in command palette\n\nSome actions only make sense from a connected resource. If you need to disable one from showing globally, just add a `\"when\":\"false\"` statement for command palette.\n\n```json\n\"menus\": {\n    \"commandPalette\": [\n        {\n            // This disables the command. Unless \"when\" is false, all commands show in the command palette\n            \"command\": \"extension.showCurrentConnection\",\n            \"when\": \"false\"\n        },\n    ]\n}\n```",
            "metadata": {}
        },
        {
            "cell_type": "markdown",
            "source": "# Using the context object to get connection info\n\nLike many of our APIs, the context menu options are in a proposed state. This means we _might_ change them, but if we do we will notify published extension authors to avoid breaking them. \n\nWe are actively working on Connection APIs to simplify usage. Examples are only having 1 connection object, making APIs much simpler to use, and more. Expect these to come in the next few months using the `azdata` module.\n\nHere's right-click context API:  \n\n```ts\n/**\n * Context object passed as an argument to command callbacks.\n * Defines the key properties required to identify a node in the object\n * explorer tree and take action against it.\n */\nexport interface ObjectExplorerContext {\n\n    /**\n     * The connection information for the selected object.\n     * Note that the connection is not guaranteed to be in a connected\n     * state on click.\n     */\n    connectionProfile: IConnectionProfile;\n    /**\n     * Defines whether this is a Connection-level object.\n     * If not, the object is expected to be a child object underneath\n     * one of the connections.\n     */\n    isConnectionNode: boolean;\n    /**\n     * Node info for objects below a specific connection. This\n     * may be null for a Connection-level object\n     */\n    nodeInfo: NodeInfo;\n}\n```",
            "metadata": {}
        },
        {
            "cell_type": "markdown",
            "source": "## Adding proposed APIs to your extension\n* Will have option by default in future extension templates\n* For now, copy contents of https://raw.githubusercontent.com/Microsoft/azuredatastudio/master/src/sql/sqlops.proposed.d.ts to `src/typings/sqlops.proposed.d.ts",
            "metadata": {}
        },
        {
            "cell_type": "markdown",
            "source": "## Using right-click menu context\n\n* Convert the method to async (it's just easier when dealing with branching logic)\n* define an optional parameter for the context\n* Read connection info from one of the 2 launch points\n\n```ts\ncontext.subscriptions.push(vscode.commands.registerCommand('extension.showCurrentConnection',\nasync (context?: sqlops.ObjectExplorerContext) => \n{\n    if (context && context.connectionProfile) {\n        // We launched from the Connections viewlet's context menu\n        let serverName = context.connectionProfile.serverName;\n        let dbName = context.connectionProfile.databaseName || '<Default>';\n        vscode.window.showInformationMessage('Using ' + serverName + ':' + dbName);\n    } else {\n        // We launched from the command palette\n        // Note: in the future all APIs will return IConnectionProfile!\n        let connection: sqlops.connection.Connection = await sqlops.connection.getCurrentConnection();\n        let serverName = connection.options['server'];\n        let dbName = connection.options['database'] || '<Default>';\n\n        let message = connection ? \n            'Using ' + serverName + ':' + dbName\n            : 'No Connection found!';\n        vscode.window.showInformationMessage(message);\n    }\n}));\n\n```\n",
            "metadata": {}
        }
    ]
}