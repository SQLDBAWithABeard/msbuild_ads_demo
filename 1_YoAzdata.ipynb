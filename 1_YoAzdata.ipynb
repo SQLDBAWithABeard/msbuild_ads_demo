{
    "metadata": {
        "kernelspec": {
            "name": "python3",
            "display_name": "Python 3"
        },
        "language_info": {
            "name": "python",
            "version": "3.6.6",
            "mimetype": "text/x-python",
            "codemirror_mode": {
                "name": "ipython",
                "version": 3
            },
            "pygments_lexer": "ipython3",
            "nbconvert_exporter": "python",
            "file_extension": ".py"
        }
    },
    "nbformat_minor": 2,
    "nbformat": 4,
    "cells": [
        {
            "cell_type": "markdown",
            "source": "# Creating an extension: prerequisites\n\nClick the **Not Trusted** button above to trust the notebook and enable command links.\n\nNext <a href=\"command:workbench.action.installCommandLine\">install azuredatastudio in your path</a>. \n\n> Note: this is only needed for macOS / Linux.\n",
            "metadata": {}
        },
        {
            "cell_type": "markdown",
            "source": "\nInstall node.js and Visual Studio Code",
            "metadata": {}
        },
        {
            "cell_type": "code",
            "source": "# Mac (install brew to install all the things)\n!brew install node [link](http://google.com)\n!brew cask install visual-studio-code\n\n# Linux\n# snap install node --classic\n# snap install code --classic\n\n# Windows (first install chocolatey, it's great!)\n# choco install nodejs.install\n# choco install vscode",
            "metadata": {},
            "outputs": [],
            "execution_count": 1
        },
        {
            "cell_type": "markdown",
            "source": "Install the following dependencies globally:\n* **yeoman**, a project generator (yo)\n* **generator-azuredatastudio**, which adds Azure Data Studio project templates to yeoman\n* **vsce**, the extension package tool that creates an installable _.vsix_ file for your extension ",
            "metadata": {}
        },
        {
            "cell_type": "code",
            "source": "import getpass\nimport os\npassword = getpass.getpass()\n!echo {password} | sudo -S npm install -g yo generator-azuredatastudio vsce\n",
            "metadata": {},
            "outputs": [],
            "execution_count": 6
        },
        {
            "cell_type": "markdown",
            "source": "# Run the extension generator\n\n<a href=\"command:workbench.action.terminal.focus\">Open the terminal</a> and then <a href=\"command:workbench.action.terminal.sendSequence?%7B%22text%22%3A%22yo%20azuredatastudio%22%7D\">run 'yo azuredatastudio'</a> to create a new extension.\n> Note: It's interactive so doesn't work in a notebook\n\nWhen you've followed the steps, use <a href=\"command:workbench.action.terminal.sendSequence?%7B%22text%22%3A%22code%20.%22%7D\">run 'code .'</a> to open Visual Studio Code.\n\n\n",
            "metadata": {}
        },
        {
            "cell_type": "markdown",
            "source": "## What can I do if I'm not comfortable coding?\nThe following choices require no coding other than SQL querying\n* Dashboard Insight\n * SQL queries + JSON\n* Color Theme\n  * Change colors in Azure Data Studio + save JSON output\n* Keymap\n  * Change key bindings and copy the JSON\n* Code Snippets\n  * JSON snippets file\n",
            "metadata": {}
        },
        {
            "cell_type": "markdown",
            "source": "",
            "metadata": {}
        }
    ]
}