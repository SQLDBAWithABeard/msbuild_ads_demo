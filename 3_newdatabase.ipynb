{
    "metadata": {
        "kernelspec": {
            "name": "SQL",
            "display_name": "SQL",
            "language": "sql"
        },
        "language_info": {
            "name": "sql",
            "version": ""
        }
    },
    "nbformat_minor": 2,
    "nbformat": 4,
    "cells": [
        {
            "cell_type": "markdown",
            "source": "# A real world example: New Database extension\n\n#### Why build this?\nI built the New Database extension because we need empty DBs to test against all the time. We can use the `sqlCreateDatabase` snippet, but when done a _lot_ having to open a query window and type / execute a snippet felt too slow. I want a new database now!\n> This extension was also a great way to show the power of extensions since it connects, issues a SQL query, and kicks off a background task.\n\n### Install the extension\n* <a href=\"command:workbench.view.extensions\">View Extensions</a> and Search **New Database**\n* Click install, download VSIX and use **Install from VSIX** command to install\n\n### Create a new database\n\n|Step| Contribution Point | What's added | \n|----|----|----|\n|Right-click on the Databases folder for a connection| Menus |  **New Database** menu item, when node label is Databases| \n|Choose **New Database** | Command |  **New Database** command | \n|Enter database name| Quick Pick menu | Request simple input | \n|See task progress| Tasks window | Create Database started/succeeded/failed | \n|Notify with more information / next steps| Show Message | | \n\n<br/>\n\n",
            "metadata": {}
        },
        {
            "cell_type": "markdown",
            "source": "## The Data Management Protocol (DMP)\n\nTo create a database something needs to connect to a DB and run a SQL command. You could write your own backend in Typescript, .Net Core, Python etc. but why do this when we already have connect, query and many more actions built-in?\n\nThe Data Management Protocol (DMP) defines the APIs needed to connect, query, and more. \n* SQL Server and PostgreSQL connections work using the DMP and run in extensions\n* All the core operations in Azure Data Studio use the DMP\n* Using this avoids issues where your driver doesn't support an authentication type (e.g. Azure Active Directory), so it's a great idea to use it!\n\n| Action | DMP Provider | Notes |\n|----|----|----|\n| Connect to a SQL DB | **ConnectionProvider**| |\n| Run a query | **QueryProvider** | |\n| Object Explorer / Schema Browsing |  **ObjectExplorerProvider**  | Primary provider of schema / metadata about a connection in the **Connections** view. Should provide all the basic schema information, management folders and more |\n| Add nodes under an Object Explorer session  | **ObjectExplorerNodeProvider** | Augment SQL Server or other connection type with additional subtrees. For example: Data Services & HDFS folders under SQL Server connections use this since they're using REST instead of TDS to query metadata. Great for adding Monitoring, customized metadata, or other features. |\n| Script objects | **ScriptingProvider** | |\n\n",
            "metadata": {}
        },
        {
            "cell_type": "markdown",
            "source": "\n## Walkthrough: Writing the New Database extension\n\n### 1. Define new command\n\n#### package.json\n* Add a command `newdatabase.createdb`\n* Show in on right-click if we're on the Databases node\n\n```json\n\n\"activationEvents\": [\n    \"onCommand:newdatabase.createdb\"\n],\n\"contributes\": {\n    \"commands\": [\n        {\n            \"command\": \"newdatabase.createdb\",\n            \"title\": \"New Database\"\n        }\n    ],\n    \"menus\": {\n        \"objectExplorer/item/context\": [\n            {\n                \"command\": \"newdatabase.createdb\",\n                \"when\": \"connectionProvider == MSSQL && nodeType && nodeType == Folder && nodeLabel=~/^Databases$/\",\n                \"group\": \"1data1\"\n            }\n        ]\n    },\n    \"keybindings\": [\n        {\n            \"command\": \"newdatabase.createdb\",\n            \"key\": \"Ctrl+Shift+d b\"\n        }\n    ]\n},\n```\n",
            "metadata": {}
        },
        {
            "cell_type": "markdown",
            "source": "\n### 2. Define the contribution in extension.ts\n\n```ts\nexport function activate(context: vscode.ExtensionContext) {\n    context.subscriptions.push(vscode.commands.registerCommand('newdatabase.createdb', async (context: sqlops.ObjectExplorerContext) => {\n        createDatabase(context);\n    }));\n}\n```\n\n",
            "metadata": {}
        },
        {
            "cell_type": "markdown",
            "source": "### 3. Basic task flows\n\nThe basic flow of any task is to verify inputs, prompt a user if anything extra is needed, then kick off a task. This is really easy using the Azure Data Studio APIs.\n\n```ts\nasync function createDatabase(context: sqlops.ObjectExplorerContext): Promise<void> {\n    let connection = await makeSureWeAreConnected(context);\n    if (!connection) {\n        vscode.window.showInformationMessage('Cannot create database as no active connection could be found');\n        return;\n    }\n\n    // Prompt the user for a new database name\n    let dbName = await vscode.window.showInputBox({\n        prompt: 'Name of database to create on server ' + connection.options['server']\n    });\n    if (!dbName) {\n        return;\n    }\n\n    // Run the create database as a task\n    sqlops.tasks.startBackgroundOperation({\n        connection: connection as sqlops.connection.Connection,\n        displayName: 'Creating Database ' + dbName,\n        description: '',\n        isCancelable: false,\n        operation: (op) => doCreateDatabase(op, dbName, connection)\n    });\n}\n```",
            "metadata": {}
        }
    ]
}